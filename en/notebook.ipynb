{
 "cells": [
  {
   "cell_type": "markdown",
   "metadata": {},
   "source": [
    "# Connecting to the database\n",
    "\n",
    "And selecting the unique elements of the products"
   ]
  },
  {
   "cell_type": "code",
   "execution_count": null,
   "metadata": {},
   "outputs": [],
   "source": [
    "import sqlite3\n",
    "\n",
    "# Connect to the database\n",
    "conn = sqlite3.connect('inventory.db')\n",
    "cursor = conn.cursor()\n",
    "\n",
    "# Fetch unique item names\n",
    "cursor.execute(\"SELECT DISTINCT item_name FROM products\")\n",
    "items = [row[0] for row in cursor.fetchall()]"
   ]
  },
  {
   "cell_type": "markdown",
   "metadata": {},
   "source": [
    "# Importing genai"
   ]
  },
  {
   "cell_type": "code",
   "execution_count": null,
   "metadata": {},
   "outputs": [],
   "source": [
    "import google.generativeai as genai\n",
    "genai.configure(api_key='YOUR_API_KEY')"
   ]
  },
  {
   "cell_type": "markdown",
   "metadata": {},
   "source": [
    "# To retrieve user requests from prompt<br>and create SQL query"
   ]
  },
  {
   "cell_type": "code",
   "execution_count": 106,
   "metadata": {},
   "outputs": [],
   "source": [
    "model = genai.GenerativeModel('models/gemini-1.5-flash')\n",
    "\n",
    "# User query\n",
    "user_query = \"How many shirts are availble on the store ?\"\n",
    "\n",
    "# Prompt the model to generate a SQL WHERE clause\n",
    "prompt = f\"\"\"\n",
    "Given the user query: \"{user_query}\", generate a SQL clause to filter the products table for items and select what the user is requesting.\n",
    "here's the available columns item_name ,quantity ,price ,color \n",
    "\n",
    "Here's the ALL THE items available on the store : {items}\n",
    "\n",
    "Respond only with the SQL code if the item is available on the store for example here's a code : SELECT DISTINCT item_name FROM products.\n",
    "If the request of the user isn't on the available items on the store from the given items you must return No_result_found\n",
    "\"\"\"\n",
    "\n",
    "response = model.generate_content(prompt)"
   ]
  },
  {
   "cell_type": "code",
   "execution_count": 107,
   "metadata": {},
   "outputs": [
    {
     "data": {
      "text/plain": [
       "\"```sql\\nSELECT SUM(quantity) AS total_shirts \\nFROM products\\nWHERE item_name = 'Shirt' OR item_name = 'Polo Shirt';\\n```\\n\""
      ]
     },
     "execution_count": 107,
     "metadata": {},
     "output_type": "execute_result"
    }
   ],
   "source": [
    "response.text"
   ]
  },
  {
   "cell_type": "markdown",
   "metadata": {},
   "source": [
    "# Cleaning the return"
   ]
  },
  {
   "cell_type": "code",
   "execution_count": 108,
   "metadata": {},
   "outputs": [
    {
     "name": "stdout",
     "output_type": "stream",
     "text": [
      "SELECT SUM(quantity) AS total_shirts \n",
      "FROM products\n",
      "WHERE item_name = 'Shirt' OR item_name = 'Polo Shirt';\n"
     ]
    }
   ],
   "source": [
    "def extract_sql_query(text):\n",
    "    # Remove leading and trailing whitespace\n",
    "    text = text.strip()\n",
    "    \n",
    "    # Remove code block backticks if present\n",
    "    if text.startswith('```sql') and text.endswith('```'):\n",
    "        text = text.strip('```').replace('sql\\n', '').strip()\n",
    "    \n",
    "    return text\n",
    "\n",
    "# Example usage\n",
    "\n",
    "sql_query = extract_sql_query(response.text)\n",
    "print(sql_query)"
   ]
  },
  {
   "cell_type": "markdown",
   "metadata": {},
   "source": [
    "# Filtering the database"
   ]
  },
  {
   "cell_type": "code",
   "execution_count": 109,
   "metadata": {},
   "outputs": [],
   "source": [
    "conn = sqlite3.connect('inventory.db')\n",
    "cursor = conn.cursor()\n",
    "\n",
    "cursor.execute(sql_query)\n",
    "result = [row[0] for row in cursor.fetchall()]"
   ]
  },
  {
   "cell_type": "code",
   "execution_count": 110,
   "metadata": {},
   "outputs": [
    {
     "data": {
      "text/plain": [
       "[195]"
      ]
     },
     "execution_count": 110,
     "metadata": {},
     "output_type": "execute_result"
    }
   ],
   "source": [
    "result"
   ]
  },
  {
   "cell_type": "markdown",
   "metadata": {},
   "source": [
    "# Final request to the LLM with filtered data"
   ]
  },
  {
   "cell_type": "code",
   "execution_count": null,
   "metadata": {},
   "outputs": [],
   "source": [
    "# Prompt the model to generate a SQL WHERE clause\n",
    "prompt = f\"\"\"\n",
    "You're a shop assitant , please answer the user based on the retrieved \n",
    "documents they have been retrieved from the database and it's the informations about \n",
    "what the user requested.\n",
    "Here's the original user query {user_query}\n",
    "and here's the retrieved documents from the database {result}\n",
    "if the result is not empty it's a confirmation that the request of the user is available\n",
    "\"\"\"\n",
    "\n",
    "response = model.generate_content(prompt)"
   ]
  },
  {
   "cell_type": "code",
   "execution_count": 112,
   "metadata": {},
   "outputs": [
    {
     "data": {
      "text/plain": [
       "'We currently have 195 shirts available in the store.\\n'"
      ]
     },
     "execution_count": 112,
     "metadata": {},
     "output_type": "execute_result"
    }
   ],
   "source": [
    "response.text"
   ]
  },
  {
   "cell_type": "code",
   "execution_count": null,
   "metadata": {},
   "outputs": [],
   "source": []
  }
 ],
 "metadata": {
  "kernelspec": {
   "display_name": "Python 3",
   "language": "python",
   "name": "python3"
  },
  "language_info": {
   "codemirror_mode": {
    "name": "ipython",
    "version": 3
   },
   "file_extension": ".py",
   "mimetype": "text/x-python",
   "name": "python",
   "nbconvert_exporter": "python",
   "pygments_lexer": "ipython3",
   "version": "3.10.12"
  }
 },
 "nbformat": 4,
 "nbformat_minor": 2
}
