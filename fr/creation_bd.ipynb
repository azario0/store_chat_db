{
 "cells": [
  {
   "cell_type": "markdown",
   "metadata": {},
   "source": [
    "# Pour cree la base de donnees"
   ]
  },
  {
   "cell_type": "code",
   "execution_count": 1,
   "metadata": {},
   "outputs": [],
   "source": [
    "import sqlite3"
   ]
  },
  {
   "cell_type": "code",
   "execution_count": 2,
   "metadata": {},
   "outputs": [],
   "source": [
    "conn = sqlite3.connect('inventory.db')"
   ]
  },
  {
   "cell_type": "code",
   "execution_count": 3,
   "metadata": {},
   "outputs": [],
   "source": [
    "cursor = conn.cursor()"
   ]
  },
  {
   "cell_type": "code",
   "execution_count": 4,
   "metadata": {},
   "outputs": [
    {
     "data": {
      "text/plain": [
       "<sqlite3.Cursor at 0x7fd2104a5b40>"
      ]
     },
     "execution_count": 4,
     "metadata": {},
     "output_type": "execute_result"
    }
   ],
   "source": [
    "cursor.execute('''\n",
    "    CREATE TABLE IF NOT EXISTS products (\n",
    "        id INTEGER PRIMARY KEY AUTOINCREMENT,\n",
    "        item_name TEXT,\n",
    "        quantity INTEGER,\n",
    "        price REAL,\n",
    "        color TEXT\n",
    "    )\n",
    "''')"
   ]
  },
  {
   "cell_type": "markdown",
   "metadata": {},
   "source": [
    "# Ajout des articles"
   ]
  },
  {
   "cell_type": "code",
   "execution_count": 5,
   "metadata": {},
   "outputs": [],
   "source": [
    "products_data = [\n",
    "    ('Shirt', 100, 25.50, 'Blue'),\n",
    "    ('Pants', 80, 35.00, 'Black'),\n",
    "    ('Hat', 120, 15.00, 'Red'),\n",
    "    ('Jacket', 60, 50.00, 'Green'),\n",
    "    ('Socks', 200, 5.00, 'White'),\n",
    "    ('Dress', 70, 45.00, 'Purple'),\n",
    "    ('Tie', 90, 12.00, 'Gray'),\n",
    "    ('Scarf', 50, 18.00, 'Yellow'),\n",
    "    ('Shorts', 110, 22.00, 'Beige'),\n",
    "    ('Blouse', 85, 28.00, 'Pink'),\n",
    "    ('Coat', 45, 60.00, 'Navy'),\n",
    "    ('Skirt', 75, 30.00, 'Orange'),\n",
    "    ('Vest', 30, 20.00, 'Brown'),\n",
    "    ('Belt', 100, 8.00, 'Tan'),\n",
    "    ('Gloves', 150, 7.50, 'Maroon'),\n",
    "    ('Polo Shirt', 95, 24.00, 'Cyan'),\n",
    "    ('Jeans', 130, 38.00, 'Denim'),\n",
    "    ('Raincoat', 40, 40.00, 'Magenta'),\n",
    "    ('Trench Coat', 25, 70.00, 'Grey'),\n",
    "    ('Cardigan', 65, 35.00, 'Lavender')\n",
    "]"
   ]
  },
  {
   "cell_type": "code",
   "execution_count": 6,
   "metadata": {},
   "outputs": [
    {
     "data": {
      "text/plain": [
       "<sqlite3.Cursor at 0x7fd2104a5b40>"
      ]
     },
     "execution_count": 6,
     "metadata": {},
     "output_type": "execute_result"
    }
   ],
   "source": [
    "cursor.executemany('''\n",
    "    INSERT INTO products (item_name, quantity, price, color)\n",
    "    VALUES (?, ?, ?, ?)\n",
    "''', products_data)"
   ]
  },
  {
   "cell_type": "code",
   "execution_count": 7,
   "metadata": {},
   "outputs": [],
   "source": [
    "conn.commit()"
   ]
  },
  {
   "cell_type": "code",
   "execution_count": 8,
   "metadata": {},
   "outputs": [],
   "source": [
    "conn.close()"
   ]
  },
  {
   "cell_type": "code",
   "execution_count": null,
   "metadata": {},
   "outputs": [],
   "source": []
  }
 ],
 "metadata": {
  "kernelspec": {
   "display_name": "Python 3",
   "language": "python",
   "name": "python3"
  },
  "language_info": {
   "codemirror_mode": {
    "name": "ipython",
    "version": 3
   },
   "file_extension": ".py",
   "mimetype": "text/x-python",
   "name": "python",
   "nbconvert_exporter": "python",
   "pygments_lexer": "ipython3",
   "version": "3.10.12"
  }
 },
 "nbformat": 4,
 "nbformat_minor": 2
}
