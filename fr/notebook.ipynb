{
 "cells": [
  {
   "cell_type": "markdown",
   "metadata": {},
   "source": [
    "# Se connecter à la base de données\n",
    "\n",
    "Et sélectionner les éléments uniques des produits"
   ]
  },
  {
   "cell_type": "code",
   "execution_count": 1,
   "metadata": {},
   "outputs": [],
   "source": [
    "import sqlite3\n",
    "\n",
    "# Se connecter à la base de données\n",
    "conn = sqlite3.connect('inventory.db')\n",
    "cursor = conn.cursor()\n",
    "\n",
    "# Récupérer les noms d'articles uniques\n",
    "cursor.execute(\"SELECT DISTINCT item_name FROM products\")\n",
    "items = [row[0] for row in cursor.fetchall()]"
   ]
  },
  {
   "cell_type": "markdown",
   "metadata": {},
   "source": [
    "# Importation de genai"
   ]
  },
  {
   "cell_type": "code",
   "execution_count": null,
   "metadata": {},
   "outputs": [],
   "source": [
    "import google.generativeai as genai\n",
    "genai.configure(api_key='YOUR_API_KEY')"
   ]
  },
  {
   "cell_type": "markdown",
   "metadata": {},
   "source": [
    "# Pour récupérer les demandes de <br>l'utilisateur à partir de la prompt<br>\n",
    "et créer une requête SQL"
   ]
  },
  {
   "cell_type": "code",
   "execution_count": null,
   "metadata": {},
   "outputs": [],
   "source": [
    "model = genai.GenerativeModel('models/gemini-1.5-flash')\n",
    "\n",
    "# Demande de l'utilisateur\n",
    "user_query = \"Combien de jean sont disponible dans le magazin?\"\n",
    "\n",
    "# Interroger le modèle pour générer une clause WHERE SQL\n",
    "prompt = f\"\"\"\n",
    "Étant donné la demande de l'utilisateur : \"{user_query}\", générez une clause SQL pour filtrer la table \n",
    "products et sélectionner ce que demande l'utilisateur.\n",
    "Voici les colonnes disponibles : item_name, quantity, price, color\n",
    "\n",
    "Voici la liste de tous les articles disponibles dans le magasin : {items}\n",
    "\n",
    "Répondez uniquement avec le code SQL si l'article est disponible dans le magasin. Par exemple, \n",
    "voici un code : SELECT DISTINCT item_name FROM products.\n",
    "Si la demande de l'utilisateur ne correspond à aucun article disponible dans le magasin, vous \n",
    "devez retourner No_result_found sans requet sql svp\n",
    "\"\"\"\n",
    "\n",
    "response = model.generate_content(prompt)"
   ]
  },
  {
   "cell_type": "code",
   "execution_count": 35,
   "metadata": {},
   "outputs": [
    {
     "data": {
      "text/plain": [
       "\"```sql\\nSELECT SUM(quantity) AS total_jeans FROM products WHERE item_name = 'Jeans';\\n```\\n\""
      ]
     },
     "execution_count": 35,
     "metadata": {},
     "output_type": "execute_result"
    }
   ],
   "source": [
    "response.text"
   ]
  },
  {
   "cell_type": "markdown",
   "metadata": {},
   "source": [
    "# Nettoyage de la sortie"
   ]
  },
  {
   "cell_type": "code",
   "execution_count": 36,
   "metadata": {},
   "outputs": [
    {
     "name": "stdout",
     "output_type": "stream",
     "text": [
      "SELECT SUM(quantity) AS total_jeans FROM products WHERE item_name = 'Jeans';\n"
     ]
    }
   ],
   "source": [
    "def extract_sql_query(text):\n",
    "    # Supprimer les espaces blancs au début et à la fin\n",
    "    text = text.strip()\n",
    "    \n",
    "    # Supprimer les backticks des blocs de code si présents\n",
    "    if text.startswith('```sql') and text.endswith('```'):\n",
    "        text = text.strip('```').replace('sql\\n', '').strip()\n",
    "    \n",
    "    return text\n",
    "\n",
    "# Exemple d'utilisation\n",
    "\n",
    "sql_query = extract_sql_query(response.text)\n",
    "print(sql_query)"
   ]
  },
  {
   "cell_type": "markdown",
   "metadata": {},
   "source": [
    "# Filtrage de la base de données"
   ]
  },
  {
   "cell_type": "code",
   "execution_count": 37,
   "metadata": {},
   "outputs": [],
   "source": [
    "conn = sqlite3.connect('inventory.db')\n",
    "cursor = conn.cursor()\n",
    "\n",
    "cursor.execute(sql_query)\n",
    "result = [row[0] for row in cursor.fetchall()]"
   ]
  },
  {
   "cell_type": "code",
   "execution_count": 38,
   "metadata": {},
   "outputs": [
    {
     "data": {
      "text/plain": [
       "[130]"
      ]
     },
     "execution_count": 38,
     "metadata": {},
     "output_type": "execute_result"
    }
   ],
   "source": [
    "result"
   ]
  },
  {
   "cell_type": "markdown",
   "metadata": {},
   "source": [
    "# Demande finale au LLM avec les données filtrées"
   ]
  },
  {
   "cell_type": "code",
   "execution_count": null,
   "metadata": {},
   "outputs": [],
   "source": [
    "# Interroger le modèle pour générer une clause WHERE SQL\n",
    "prompt = f\"\"\"\n",
    "Vous êtes un assistant de magasin, veuillez répondre à l'utilisateur sur la \n",
    "base des documents récupérés\n",
    "ces documents ont été récupérés de la base de données et ils contiennent les informations \n",
    "sur ce que l'utilisateur a demandé.\n",
    "Voici la demande originale de l'utilisateur : {user_query}\n",
    "et voici les documents récupérés de la base de données : {result}\n",
    "si le résultat n'est pas vide, cela confirme que la demande de l'utilisateur est disponible\n",
    "\"\"\"\n",
    "\n",
    "response = model.generate_content(prompt)"
   ]
  },
  {
   "cell_type": "code",
   "execution_count": 40,
   "metadata": {},
   "outputs": [
    {
     "data": {
      "text/plain": [
       "'Bonjour !  Nous avons actuellement 130 jeans en stock.\\n'"
      ]
     },
     "execution_count": 40,
     "metadata": {},
     "output_type": "execute_result"
    }
   ],
   "source": [
    "response.text"
   ]
  },
  {
   "cell_type": "code",
   "execution_count": null,
   "metadata": {},
   "outputs": [],
   "source": []
  }
 ],
 "metadata": {
  "kernelspec": {
   "display_name": "Python 3",
   "language": "python",
   "name": "python3"
  },
  "language_info": {
   "codemirror_mode": {
    "name": "ipython",
    "version": 3
   },
   "file_extension": ".py",
   "mimetype": "text/x-python",
   "name": "python",
   "nbconvert_exporter": "python",
   "pygments_lexer": "ipython3",
   "version": "3.10.12"
  }
 },
 "nbformat": 4,
 "nbformat_minor": 2
}
